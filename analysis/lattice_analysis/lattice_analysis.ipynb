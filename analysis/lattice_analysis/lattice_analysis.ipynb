{
 "cells": [
  {
   "cell_type": "code",
   "execution_count": null,
   "id": "e68a10cb-191e-48cd-837c-10e929e8139e",
   "metadata": {},
   "outputs": [],
   "source": [
    "import h5py\n",
    "import numpy as np\n",
    "\n",
    "import matplotlib.pyplot as plt"
   ]
  },
  {
   "cell_type": "code",
   "execution_count": null,
   "id": "9ef5f60b-5bf4-4ac1-9c0c-ca245189ca0e",
   "metadata": {},
   "outputs": [],
   "source": [
    "# Complete file name of the Lattice Microbes Trajectory\n",
    "# filename = '/home/zane/Models/mincell/mc4d/Data/division_6000_1/MinCell.lm'\n",
    "# wd = '/Data1/zane/Models/mincell/Dec23_28_Jan2/'\n",
    "# wd = '/Data1/zane/Models/mincell/Jan31/'\n",
    "# wd = '/Data1/zane/Models/mincell/Mar10/lm_traj/'\n",
    "wd = '/Data1/zane/Models/mincell/merged/'\n",
    "\n",
    "figDir = '/home/zane/Pictures/mc4d/'\n",
    "\n",
    "# fn = 'MC_'\n",
    "fn = 'MinCell_'\n",
    "ext = '.lm'\n",
    "reps = [x for x in range(1,21)]\n",
    "for rep in reps:\n",
    "    traj = h5py.File(wd+fn+str(rep)+ext)\n",
    "    if float(traj['Simulations']['0000001']['LatticeTimes'][-1])!=6000:\n",
    "        print(rep, traj['Simulations']['0000001']['LatticeTimes'][-1])\n",
    "    # reps.append(i)\n",
    "reps"
   ]
  },
  {
   "cell_type": "code",
   "execution_count": null,
   "id": "7fd5b200-36cf-44e1-a7b7-c5df5f7ec5ce",
   "metadata": {},
   "outputs": [],
   "source": [
    "# with open(wd+'reps.txt') as f:\n",
    "#     lines = [line.rstrip() for line in f]\n",
    "# print(lines)"
   ]
  },
  {
   "cell_type": "code",
   "execution_count": null,
   "id": "62800128-bd4b-45e9-8476-b67ad53f9f21",
   "metadata": {},
   "outputs": [],
   "source": [
    "sNbin = traj['Parameters']['SpeciesNames']\n",
    "sN = []\n",
    "for n in sNbin:\n",
    "    sN.append(n[0].decode(\"utf-8\"))\n",
    "\n",
    "def getIdx(name):\n",
    "    return int(sN.index(name)+1)"
   ]
  },
  {
   "cell_type": "code",
   "execution_count": null,
   "id": "06a4b6fe-3f03-40c9-9d46-3b583c3e668f",
   "metadata": {},
   "outputs": [],
   "source": [
    "siteNames = traj['Parameters'].attrs['siteTypeNames'].decode(\"utf-8\").split(',')\n",
    "\n",
    "def getSiteIdx(name):\n",
    "    return int(siteNames.index(name))\n",
    "\n",
    "print(getSiteIdx('outer_cytoplasm'))\n",
    "siteNames"
   ]
  },
  {
   "cell_type": "code",
   "execution_count": null,
   "id": "2b68684a-d350-4a6b-b201-d68348d720d1",
   "metadata": {},
   "outputs": [],
   "source": [
    "# np.array(traj['Simulations']['0000001']['Sites']['0000006000'])"
   ]
  },
  {
   "cell_type": "code",
   "execution_count": null,
   "id": "942f808f-3abd-45b6-89e8-063267f2f855",
   "metadata": {},
   "outputs": [],
   "source": [
    "def getcoords(spec, time=None):\n",
    "\n",
    "    coords = []\n",
    "\n",
    "    for rep in reps:\n",
    "\n",
    "        traj = h5py.File(wd+fn+str(rep)+ext)\n",
    "\n",
    "        if time is None:\n",
    "            t = int(traj['Simulations']['0000001']['LatticeTimes'][-1])\n",
    "        else:\n",
    "            t = time\n",
    "    \n",
    "        pL = np.array(traj['Simulations']['0000001']['Lattice']['000000{}'.format(t)])\n",
    "\n",
    "        scoords = np.argwhere(pL==getIdx(spec))\n",
    "\n",
    "        scoords = scoords.T[0:3].T\n",
    "\n",
    "        coords.append(scoords)\n",
    "\n",
    "        # print(coords)\n",
    "\n",
    "    return coords"
   ]
  },
  {
   "cell_type": "code",
   "execution_count": null,
   "id": "acf4df67-a7ab-41f9-bd56-7987c775892a",
   "metadata": {},
   "outputs": [],
   "source": [
    "def getcoordsMult(specList, time=None):\n",
    "\n",
    "    coords = []\n",
    "\n",
    "    for rep in reps:\n",
    "\n",
    "        traj = h5py.File(wd+fn+str(rep)+ext)\n",
    "\n",
    "        if time is None:\n",
    "            t = int(traj['Simulations']['0000001']['LatticeTimes'][-1])\n",
    "        else:\n",
    "            t = time\n",
    "    \n",
    "        pL = np.array(traj['Simulations']['0000001']['Lattice']['000000{}'.format(t)])\n",
    "\n",
    "        scoords = None\n",
    "\n",
    "        for spec in specList:\n",
    "\n",
    "            if scoords is None:\n",
    "\n",
    "                scoords = np.argwhere(pL==getIdx(spec))\n",
    "\n",
    "            else:\n",
    "\n",
    "                sc = np.argwhere(pL==getIdx(spec))\n",
    "\n",
    "                scoords = np.concatenate((scoords, sc), axis=0)\n",
    "\n",
    "        scoords = scoords.T[0:3].T\n",
    "\n",
    "        coords.append(scoords)\n",
    "\n",
    "        # print(coords)\n",
    "\n",
    "    return coords"
   ]
  },
  {
   "cell_type": "code",
   "execution_count": null,
   "id": "a58e6cda-25c2-443c-a169-b34da1614efc",
   "metadata": {},
   "outputs": [],
   "source": [
    "# def getSiteCoords(site, time=None):\n",
    "\n",
    "#     coords = []\n",
    "\n",
    "#     for rep in reps:\n",
    "\n",
    "#         traj = h5py.File(wd+fn+str(rep)+ext)\n",
    "\n",
    "#         if time is None:\n",
    "#             t = int(traj['Simulations']['0000001']['LatticeTimes'][-1])\n",
    "#         else:\n",
    "#             t = time\n",
    "    \n",
    "#         pL = np.array(traj['Simulations']['0000001']['Sites']['000000{}'.format(t)])\n",
    "\n",
    "#         scoords = np.argwhere(pL==getSiteIdx(site))\n",
    "\n",
    "#         scoords = scoords.T[0:3].T\n",
    "\n",
    "#         coords.append(scoords)\n",
    "\n",
    "#         # print(coords)\n",
    "\n",
    "#     return coords"
   ]
  },
  {
   "cell_type": "code",
   "execution_count": null,
   "id": "6b15351c-8328-4090-9eb0-1fa1eff5894e",
   "metadata": {},
   "outputs": [],
   "source": [
    "def getDividedDist(data=None, spec=None, specList=None):\n",
    "\n",
    "    counts_per_cell = []\n",
    "\n",
    "    for i in range(len(reps)):\n",
    "    \n",
    "        scoords = data[i]\n",
    "    \n",
    "        cell1 = 0\n",
    "        cell2 = 0\n",
    "    \n",
    "        for coord in scoords:\n",
    "    \n",
    "            if coord[0]<64:\n",
    "    \n",
    "                cell1+=1\n",
    "    \n",
    "            else:\n",
    "    \n",
    "                cell2+=1\n",
    "    \n",
    "        counts_per_cell.append(cell1)\n",
    "        counts_per_cell.append(cell2)\n",
    "\n",
    "    return counts_per_cell"
   ]
  },
  {
   "cell_type": "code",
   "execution_count": null,
   "id": "a6c10139-b5d5-4fc4-b9d5-3eebd13d7dcd",
   "metadata": {},
   "outputs": [],
   "source": [
    "def getPartitionedParticles(data):\n",
    "\n",
    "    countsPerCell = {\n",
    "        'Left':[],\n",
    "        'Right':[]\n",
    "    }\n",
    "\n",
    "    for i in range(len(reps)):\n",
    "    \n",
    "        scoords = data[i]\n",
    "    \n",
    "        cell1 = 0\n",
    "        cell2 = 0\n",
    "    \n",
    "        for coord in scoords:\n",
    "    \n",
    "            if coord[0]<64:\n",
    "    \n",
    "                cell1+=1\n",
    "    \n",
    "            else:\n",
    "    \n",
    "                cell2+=1\n",
    "    \n",
    "        countsPerCell['Left'].append(cell1)\n",
    "        countsPerCell['Right'].append(cell2)\n",
    "\n",
    "    return countsPerCell"
   ]
  },
  {
   "cell_type": "code",
   "execution_count": null,
   "id": "15631f0f-a410-4e27-96a2-3f9fa1512947",
   "metadata": {},
   "outputs": [],
   "source": []
  },
  {
   "cell_type": "code",
   "execution_count": null,
   "id": "27e2544a-c941-4aca-bb19-edc82d5b643c",
   "metadata": {},
   "outputs": [],
   "source": []
  },
  {
   "cell_type": "code",
   "execution_count": null,
   "id": "7dc11f5d-e31e-4e35-91f8-7f47d33e8ff9",
   "metadata": {},
   "outputs": [],
   "source": [
    "ptsgC = getcoords('P_0779')"
   ]
  },
  {
   "cell_type": "code",
   "execution_count": null,
   "id": "17a901d8-c326-4af1-bf14-81be358a7252",
   "metadata": {},
   "outputs": [],
   "source": [
    "dist = getDividedDist(ptsgC)\n",
    "plt.hist(dist)"
   ]
  },
  {
   "cell_type": "code",
   "execution_count": null,
   "id": "f294b725-56bc-4e2d-9f70-219a2e26b32e",
   "metadata": {},
   "outputs": [],
   "source": [
    "ptsgPart = getPartitionedParticles(ptsgC)\n",
    "ptsgPart"
   ]
  },
  {
   "cell_type": "code",
   "execution_count": null,
   "id": "23fee4e6-2459-43bb-99ee-e6394521e704",
   "metadata": {},
   "outputs": [],
   "source": [
    "x = np.arange(len(reps))  # the label locations\n",
    "width = 0.15  # the width of the bars\n",
    "multiplier = 0\n",
    "\n",
    "fig, ax = plt.subplots(layout='constrained')\n",
    "\n",
    "for side, count in ptsgPart.items():\n",
    "    # offset = width * multiplier\n",
    "    if side == 'Left':\n",
    "        offset = -width\n",
    "    elif side == 'Right':\n",
    "        offset = width\n",
    "    rects = ax.bar(x + offset, count, width, label=side)\n",
    "    ax.bar_label(rects, padding=3)\n",
    "    multiplier += 1\n",
    "\n",
    "# Add some text for labels, title and custom x-axis tick labels, etc.\n",
    "ax.set_ylabel('Particle Count')\n",
    "ax.set_xlabel('Cell Simulation Index')\n",
    "ax.set_title('PtsG Partitioning After Division')\n",
    "ax.set_xticks(x, reps)\n",
    "ax.legend(loc='upper left', ncols=3)\n",
    "# ax.set_ylim(0, 700)\n",
    "\n",
    "plt.show()"
   ]
  },
  {
   "cell_type": "code",
   "execution_count": null,
   "id": "56c4a9e8-4fde-4aba-b3c0-434169244b1f",
   "metadata": {},
   "outputs": [],
   "source": [
    "riboSpec = ['ribosomeP']\n",
    "for pID in sN:\n",
    "    if pID.startswith('RB_'):\n",
    "        riboSpec.append(pID)\n",
    "riboCoords = getcoordsMult(riboSpec, time='6300')"
   ]
  },
  {
   "cell_type": "code",
   "execution_count": null,
   "id": "e96b2904-8262-46a4-bc59-bc1a72ca7a4f",
   "metadata": {},
   "outputs": [],
   "source": [
    "dist = getDividedDist(riboCoords)\n",
    "plt.hist(dist, color='yellow', edgecolor='k', linewidth=1.2)\n",
    "plt.axvline(np.average(dist), color='red', linewidth=3)\n",
    "plt.legend(['Average: '+str(int(np.average(dist)))])\n",
    "plt.xlabel('Ribosomes')\n",
    "plt.ylabel('Cells')\n",
    "plt.title('Ribosome Parititioning to Divided Cells')\n",
    "plt.savefig(f'{figDir}ribosome_division.png')"
   ]
  },
  {
   "cell_type": "code",
   "execution_count": null,
   "id": "174bac9b-25b7-4848-9ab8-58acd8f648ad",
   "metadata": {},
   "outputs": [],
   "source": [
    "riboPart = getPartitionedParticles(riboCoords)\n",
    "riboPart"
   ]
  },
  {
   "cell_type": "code",
   "execution_count": null,
   "id": "b86e67d0-0a6a-4386-a84b-49ec7193047f",
   "metadata": {},
   "outputs": [],
   "source": [
    "x = np.arange(len(reps))  # the label locations\n",
    "width = 0.15  # the width of the bars\n",
    "multiplier = 0\n",
    "\n",
    "fig, ax = plt.subplots(layout='constrained')\n",
    "\n",
    "for side, count in riboPart.items():\n",
    "    # offset = width * multiplier\n",
    "    if side == 'Left':\n",
    "        offset = -width\n",
    "    elif side == 'Right':\n",
    "        offset = width\n",
    "    rects = ax.bar(x + offset, count, width, label=side)\n",
    "    ax.bar_label(rects, padding=3)\n",
    "    multiplier += 1\n",
    "\n",
    "# Add some text for labels, title and custom x-axis tick labels, etc.\n",
    "ax.set_ylabel('Ribosome Count')\n",
    "ax.set_xlabel('Cell Simulation Index')\n",
    "ax.set_title('Ribosome Partitioning After Division')\n",
    "ax.set_xticks(x, reps)\n",
    "ax.legend(loc='upper left', ncols=3)\n",
    "ax.set_ylim(0, 700)\n",
    "\n",
    "plt.show()"
   ]
  },
  {
   "cell_type": "code",
   "execution_count": null,
   "id": "2cee0b0c-f649-4207-b49f-58832e05d96d",
   "metadata": {},
   "outputs": [],
   "source": [
    "# GapD Data\n",
    "GAPD = 'P_0607'\n",
    "\n",
    "specCoordsGAPD = getcoords(GAPD, time='6300')\n",
    "\n",
    "distGAPD = getDividedDist(specCoordsGAPD)\n",
    "\n",
    "partitionGAPD = getPartitionedParticles(specCoordsGAPD)\n",
    "\n",
    "# PtsG Data\n",
    "PTSG = 'P_0779'\n",
    "\n",
    "specCoordsPTSG = getcoords(PTSG, time='6300')\n",
    "\n",
    "distPTSG = getDividedDist(specCoordsPTSG)\n",
    "\n",
    "partitionPTSG = getPartitionedParticles(specCoordsPTSG)\n",
    "\n",
    "# Ribosome Data\n",
    "riboID = ['ribosomeP']\n",
    "\n",
    "for pID in sN:\n",
    "    if pID.startswith('RB_'):\n",
    "        riboID.append(pID)\n",
    "\n",
    "specCoordsRIBO = getcoordsMult(riboID, time='6300')\n",
    "\n",
    "distRIBO = getDividedDist(specCoordsRIBO)\n",
    "\n",
    "partitionRIBO = getPartitionedParticles(specCoordsRIBO)\n",
    "\n",
    "# Degradosome Data\n",
    "degID = ['Degradosome']\n",
    "\n",
    "for pID in sN:\n",
    "    if pID.startswith('D_'):\n",
    "        degID.append(pID)\n",
    "\n",
    "specCoordsDEG = getcoordsMult(degID, time='6300')\n",
    "\n",
    "distDEG = getDividedDist(specCoordsDEG)\n",
    "\n",
    "partitionDEG = getPartitionedParticles(specCoordsDEG)"
   ]
  },
  {
   "cell_type": "code",
   "execution_count": null,
   "id": "c15916d9-4354-4ed2-aac5-9745bfb0422d",
   "metadata": {},
   "outputs": [],
   "source": [
    "dists = [distRIBO, distDEG, distPTSG, distGAPD]\n",
    "partitions = [partitionRIBO, partitionDEG, partitionPTSG, partitionGAPD]\n",
    "labels = ['Ribosomes', 'Degradosomes', 'PtsG', 'GapD']"
   ]
  },
  {
   "cell_type": "code",
   "execution_count": null,
   "id": "7330fe3b-48a2-4b43-8163-e389b4203625",
   "metadata": {},
   "outputs": [],
   "source": [
    "fig, axs = plt.subplots(4,2, figsize=(6,8))\n",
    "plt.rcParams.update({'font.size': 8})\n",
    "plt.rcParams.update({\"font.family\": 'sans-serif'})\n",
    "\n",
    "plt.rcParams['figure.dpi'] = 300\n",
    "\n",
    "x = np.arange(len(reps))  # the label locations\n",
    "width = 0.15  # the width of the bars\n",
    "multiplier = 0\n",
    "\n",
    "for i in range(len(dists)):\n",
    "\n",
    "    data = dists[i]\n",
    "\n",
    "    nbars, nbins, npatches = axs[i,0].hist(data, color='yellow', edgecolor='k', linewidth=1.2)\n",
    "    axs[i,0].axvline(np.average(data), color='red', linewidth=3)\n",
    "    axs[i,0].set_ylim(0,np.max(nbars)*1.3)\n",
    "    axs[i,0].legend(['Avg: '+str(int(np.average(data)))], loc='upper right')\n",
    "    axs[i,0].set_xlabel('Particles Per Daughter')\n",
    "    axs[i,0].set_ylabel('Cells')\n",
    "    axs[i,0].set_title(labels[i])\n",
    "\n",
    "    data = partitions[i]\n",
    "    \n",
    "    ymax = 0\n",
    "    for side, count in data.items():\n",
    "        # offset = width * multiplier\n",
    "        if side == 'Left':\n",
    "            offset = -width\n",
    "        elif side == 'Right':\n",
    "            offset = width\n",
    "        rects = axs[i,1].bar(x + offset, count, width, label=side)\n",
    "        if max(count)>ymax:\n",
    "            ymax=float(max(count))\n",
    "        # ax.bar_label(rects, padding=3)\n",
    "        multiplier += 1\n",
    "    \n",
    "    # Add some text for labels, title and custom x-axis tick labels, etc.\n",
    "    axs[i,1].set_ylabel('Particles Per Daughter')\n",
    "    axs[i,1].set_xlabel('Cell Simulation Index')\n",
    "    axs[i,1].set_title(labels[i])\n",
    "    axs[i,1].set_xticks([0,4,9,14,19], [1,5,10,15,20])\n",
    "    # axs[i,1].legend(loc='upper left', ncols=3)\n",
    "    axs[i,1].set_ylim(0, ymax*1.1)\n",
    "\n",
    "plt.tight_layout()\n",
    "plt.savefig(f'{figDir}partitioning.png')"
   ]
  },
  {
   "cell_type": "code",
   "execution_count": null,
   "id": "4d318cba-a254-4dcc-a0bb-a86be7d181f4",
   "metadata": {},
   "outputs": [],
   "source": [
    "# def plotPartitioning(data, specID=None):\n",
    "\n",
    "#     if specID is None:\n",
    "#         sID = ''\n",
    "#     else:\n",
    "#         sID = specID + ' '\n",
    "\n",
    "#     x = np.arange(len(reps))  # the label locations\n",
    "#     width = 0.15  # the width of the bars\n",
    "#     multiplier = 0\n",
    "    \n",
    "#     fig, ax = plt.subplots(layout='constrained')\n",
    "\n",
    "#     ymax = 0\n",
    "#     for side, count in data.items():\n",
    "#         # offset = width * multiplier\n",
    "#         if side == 'Left':\n",
    "#             offset = -width\n",
    "#         elif side == 'Right':\n",
    "#             offset = width\n",
    "#         rects = ax.bar(x + offset, count, width, label=side)\n",
    "#         if max(count)>ymax:\n",
    "#             ymax=float(max(count))\n",
    "#         # ax.bar_label(rects, padding=3)\n",
    "#         multiplier += 1\n",
    "    \n",
    "#     # Add some text for labels, title and custom x-axis tick labels, etc.\n",
    "#     ax.set_ylabel('Particle Count')\n",
    "#     ax.set_xlabel('Cell Simulation Index')\n",
    "#     ax.set_title(sID + 'Partitioning at 105 Minutes')\n",
    "#     ax.set_xticks(x, reps)\n",
    "#     ax.legend(loc='upper left', ncols=3)\n",
    "#     ax.set_ylim(0, ymax*1.2)\n",
    "\n",
    "#     if specID is not None:\n",
    "#         plt.savefig(f'./partitioning_{specID}.png')\n",
    "    \n",
    "#     plt.show()"
   ]
  },
  {
   "cell_type": "code",
   "execution_count": null,
   "id": "1f191350-53ec-42fa-8f43-8d048bd92d9a",
   "metadata": {},
   "outputs": [],
   "source": [
    "# def plotDivDist(data, specID = None):\n",
    "\n",
    "#     plt.rcParams.update({'font.size': 12})\n",
    "#     plt.rcParams.update({\"font.family\": 'sans-serif'})\n",
    "\n",
    "#     plt.rcParams['figure.dpi'] = 300\n",
    "\n",
    "#     if specID is None:\n",
    "#         sID = ''\n",
    "#     else:\n",
    "#         sID = specID + ' '\n",
    "\n",
    "#     plt.hist(data, color='yellow', edgecolor='k', linewidth=1.2)\n",
    "#     plt.axvline(np.average(data), color='red', linewidth=3)\n",
    "#     plt.legend(['Average: '+str(int(np.average(dist)))])\n",
    "#     plt.xlabel('Particle Count')\n",
    "#     plt.ylabel('Cells')\n",
    "#     plt.title(sID + ' in Daughter Cells')\n",
    "\n",
    "#     if specID is not None:\n",
    "#         plt.savefig(f'./dist_{specID}.png')\n",
    "    \n",
    "#     plt.show()"
   ]
  },
  {
   "cell_type": "code",
   "execution_count": null,
   "id": "e29541fe-2299-4e19-8aaa-ba1ae0049659",
   "metadata": {},
   "outputs": [],
   "source": [
    "break"
   ]
  },
  {
   "cell_type": "code",
   "execution_count": null,
   "id": "02d0a66d-95a0-4a34-ae82-4e566382faaa",
   "metadata": {},
   "outputs": [],
   "source": [
    "break"
   ]
  },
  {
   "cell_type": "code",
   "execution_count": null,
   "id": "f8deedf5-f27d-418b-9cc8-91225bc5e168",
   "metadata": {},
   "outputs": [],
   "source": [
    "specID = 'P_0607'\n",
    "\n",
    "specCoords = getcoords(specID, time='6300')\n",
    "\n",
    "dist = getDividedDist(specCoords)\n",
    "plotDivDist(dist, specID)\n",
    "\n",
    "partition = getPartitionedParticles(specCoords)\n",
    "plotPartitioning(partition, specID)"
   ]
  },
  {
   "cell_type": "code",
   "execution_count": null,
   "id": "a6d11707-d3df-4dba-afa2-d88cb1de5d21",
   "metadata": {},
   "outputs": [],
   "source": [
    "specID = 'outer_cytoplasm'\n",
    "\n",
    "specCoords = getSiteCoords(specID, time='6300')\n",
    "\n",
    "dist = getDividedDist(specCoords)\n",
    "plotDivDist(dist, specID)\n",
    "\n",
    "partition = getPartitionedParticles(specCoords)\n",
    "plotPartitioning(partition, specID)"
   ]
  },
  {
   "cell_type": "code",
   "execution_count": null,
   "id": "a6e85d06-9869-4cf0-a587-74faca852c90",
   "metadata": {},
   "outputs": [],
   "source": [
    "specID = 'P_0779'\n",
    "\n",
    "specCoords = getcoords(specID, time='6300')\n",
    "\n",
    "dist = getDividedDist(specCoords)\n",
    "plotDivDist(dist, specID)\n",
    "\n",
    "partition = getPartitionedParticles(specCoords)\n",
    "plotPartitioning(partition, specID)"
   ]
  },
  {
   "cell_type": "code",
   "execution_count": null,
   "id": "615d5095-dcf8-482c-9cd5-3eb8c0bdca24",
   "metadata": {},
   "outputs": [],
   "source": [
    "specID = ['ribosomeP']\n",
    "\n",
    "for pID in sN:\n",
    "    if pID.startswith('RB_'):\n",
    "        specID.append(pID)\n",
    "\n",
    "specCoords = getcoordsMult(specID, time='6300')\n",
    "\n",
    "dist = getDividedDist(specCoords)\n",
    "plotDivDist(dist, 'Total Ribosomes')\n",
    "\n",
    "partition = getPartitionedParticles(specCoords)\n",
    "plotPartitioning(partition, 'Total Ribosomes')"
   ]
  },
  {
   "cell_type": "code",
   "execution_count": null,
   "id": "811cfd06-98e8-4fb2-a943-86af76e54fea",
   "metadata": {},
   "outputs": [],
   "source": [
    "specID = ['Degradosome']\n",
    "\n",
    "for pID in sN:\n",
    "    if pID.startswith('D_'):\n",
    "        specID.append(pID)\n",
    "\n",
    "specCoords = getcoordsMult(specID, time='6300')\n",
    "\n",
    "dist = getDividedDist(specCoords)\n",
    "plotDivDist(dist, 'Total Degradosomes')\n",
    "\n",
    "partition = getPartitionedParticles(specCoords)\n",
    "plotPartitioning(partition, 'Total Degradosomes')"
   ]
  },
  {
   "cell_type": "code",
   "execution_count": null,
   "id": "42b20186-7362-49b9-9618-b6b7f0f954d2",
   "metadata": {},
   "outputs": [],
   "source": [
    "break"
   ]
  },
  {
   "cell_type": "code",
   "execution_count": null,
   "id": "cca893ca-8d1d-46d3-a1f7-975c33807dcb",
   "metadata": {},
   "outputs": [],
   "source": [
    "specID = ['Degradosome']\n",
    "\n",
    "wd = '/home/zane/Models/mincell/mc4d/Data/ceil_test/'\n",
    "fn = 'MinCell_'\n",
    "reps = [1,2,3,4,5,6,7,8,9,10]\n",
    "ext = '.lm'\n",
    "\n",
    "for pID in sN:\n",
    "    if pID.startswith('D_'):\n",
    "        specID.append(pID)\n",
    "\n",
    "specCoords = getcoordsMult(specID, time='0200')\n",
    "\n",
    "dist = getDividedDist(specCoords)\n",
    "plotDivDist(dist, 'Total Degradosomes')\n",
    "\n",
    "partition = getPartitionedParticles(specCoords)\n",
    "plotPartitioning(partition, 'Total Degradosomes')"
   ]
  },
  {
   "cell_type": "code",
   "execution_count": null,
   "id": "dbb9b338-5efc-41e1-9e1f-5480c3e24328",
   "metadata": {},
   "outputs": [],
   "source": [
    "specID = ['ribosomeP']\n",
    "\n",
    "wd = '/home/zane/Models/mincell/mc4d/Data/dna_shrink_test_32_1/'\n",
    "fn = 'MinCell_'\n",
    "reps = [1]\n",
    "ext = '.lm'\n",
    "\n",
    "for pID in sN:\n",
    "    if pID.startswith('RB_'):\n",
    "        specID.append(pID)\n",
    "\n",
    "specCoords = getcoordsMult(specID, time='0030')\n",
    "\n",
    "dist = getDividedDist(specCoords)\n",
    "plotDivDist(dist, 'Total Degradosomes')\n",
    "\n",
    "partition = getPartitionedParticles(specCoords)\n",
    "plotPartitioning(partition, 'Total Degradosomes')"
   ]
  },
  {
   "cell_type": "code",
   "execution_count": null,
   "id": "4cf84cb0-2c27-4dd6-bcd8-d8325bb38873",
   "metadata": {},
   "outputs": [],
   "source": [
    "specID = 'P_0407'\n",
    "\n",
    "wd = '/home/zane/Models/mincell/mc4d/Data/dna_shrink_test_32_1/'\n",
    "fn = 'MinCell_'\n",
    "reps = [1]\n",
    "ext = '.lm'\n",
    "\n",
    "specCoords = getcoords(specID, time='0030')\n",
    "\n",
    "dist = getDividedDist(specCoords)\n",
    "plotDivDist(dist, 'Total {}'.format(specID))\n",
    "\n",
    "partition = getPartitionedParticles(specCoords)\n",
    "plotPartitioning(partition, 'Total {}'.format(specID))"
   ]
  },
  {
   "cell_type": "code",
   "execution_count": null,
   "id": "4d8e7111-4650-48a7-9cb2-dc15fe45cb50",
   "metadata": {},
   "outputs": [],
   "source": []
  },
  {
   "cell_type": "code",
   "execution_count": null,
   "id": "3c34124a-9af0-472a-9903-e43a4aae419b",
   "metadata": {},
   "outputs": [],
   "source": [
    "specID = ['P_0652']\n",
    "\n",
    "for pID in sN:\n",
    "    if pID.startswith('S_'):\n",
    "        specID.append(pID)\n",
    "\n",
    "specCoords = getcoordsMult(specID)\n",
    "\n",
    "dist = getDividedDist(specCoords)\n",
    "plotDivDist(dist, 'Total SecY')\n",
    "\n",
    "partition = getPartitionedParticles(specCoords)\n",
    "plotPartitioning(partition, 'Total SecY')"
   ]
  },
  {
   "cell_type": "code",
   "execution_count": null,
   "id": "af0cabae-3243-4075-82b8-19be817e66d2",
   "metadata": {},
   "outputs": [],
   "source": [
    "riboSpec = ['ribosomeP']\n",
    "for pID in sN:\n",
    "    if pID.startswith('RB_'):\n",
    "        riboSpec.append(pID)\n",
    "riboCoords = getcoordsMult(riboSpec, time=2400)"
   ]
  },
  {
   "cell_type": "code",
   "execution_count": null,
   "id": "6f611fc0-9a1c-4cb9-8c3a-b7ca23016b8b",
   "metadata": {},
   "outputs": [],
   "source": [
    "dist = []\n",
    "for coord in riboCoords[0]:\n",
    "    r = 10*((coord[0]-64)**2+(coord[1]-32)**2+(coord[2]-32)**2)**0.5\n",
    "    dist.append(r)\n",
    "bins = [50,100,150,200,250]\n",
    "dens = []\n",
    "for b in bins:\n",
    "    d = 0\n",
    "    for r in dist:\n",
    "        if b-50<r<b:\n",
    "            d+=1\n",
    "    dens.append(d/(4/3*np.pi*(b**3-(b-50)**3)))\n",
    "plt.scatter(bins,dens)\n",
    "plt.xlabel('Radial Position')\n",
    "plt.ylabel('Ribosome Density (count/V)')"
   ]
  },
  {
   "cell_type": "code",
   "execution_count": null,
   "id": "0c2e489c-793d-4f2c-bbc2-8983568ac9cd",
   "metadata": {},
   "outputs": [],
   "source": [
    "break"
   ]
  },
  {
   "cell_type": "code",
   "execution_count": null,
   "id": "90c9416c-838d-4dab-b562-6b9090719506",
   "metadata": {},
   "outputs": [],
   "source": [
    "traj = traj = h5py.File(wd+fn+str(10)+ext)"
   ]
  },
  {
   "cell_type": "code",
   "execution_count": null,
   "id": "19ff8409-b395-4b9a-b9f9-269506e46050",
   "metadata": {},
   "outputs": [],
   "source": [
    "traj['Parameters'].attrs['siteTypeNames']"
   ]
  },
  {
   "cell_type": "code",
   "execution_count": null,
   "id": "169dd9b8-6bb5-47a2-abbe-7c79e2d65a3e",
   "metadata": {},
   "outputs": [],
   "source": [
    "siteStr = traj['Parameters'].attrs['siteTypeNames'].decode(\"utf-8\")\n",
    "siteNames = siteStr.split(',')\n",
    "siteNames"
   ]
  },
  {
   "cell_type": "code",
   "execution_count": null,
   "id": "dac4c8d5-125e-4913-a0cd-004259ea2c2d",
   "metadata": {},
   "outputs": [],
   "source": [
    "sLattice = np.array(traj['Simulations']['0000001']['Sites']['0000006000'])\n",
    "sLattice.shape"
   ]
  },
  {
   "cell_type": "code",
   "execution_count": null,
   "id": "eda41a9b-9da1-4d7d-b6dd-6e8e049158a5",
   "metadata": {},
   "outputs": [],
   "source": [
    "outerCytoplasm = np.argwhere(sLattice == 3)\n",
    "len(outerCytoplasm)"
   ]
  },
  {
   "cell_type": "code",
   "execution_count": null,
   "id": "7e1385de-3a65-4419-b186-755125787aef",
   "metadata": {},
   "outputs": [],
   "source": [
    "specID = ['Degradosome']\n",
    "\n",
    "for pID in sN:\n",
    "    if pID.startswith('D_'):\n",
    "        specID.append(pID)\n",
    "\n",
    "specCoords = getcoordsMult(specID)"
   ]
  },
  {
   "cell_type": "code",
   "execution_count": null,
   "id": "5233bca9-6c68-49e3-adfa-abf61b039cad",
   "metadata": {
    "scrolled": true
   },
   "outputs": [],
   "source": [
    "for coord in specCoords[-2]:\n",
    "    # print(coord)\n",
    "    print(sLattice[coord[0],coord[1],coord[2]])"
   ]
  },
  {
   "cell_type": "code",
   "execution_count": null,
   "id": "906d8b46-064c-4ad8-aebf-24419f3dc9bf",
   "metadata": {
    "scrolled": true
   },
   "outputs": [],
   "source": [
    "ptsgID = 'P_0779'\n",
    "\n",
    "ptsgCoords = getcoords(ptsgID)\n",
    "\n",
    "for coord in ptsgCoords[-2]:\n",
    "    # print(coord)\n",
    "    print(sLattice[coord[0],coord[1],coord[2]])"
   ]
  },
  {
   "cell_type": "code",
   "execution_count": null,
   "id": "a63cec96-a938-464e-94fd-6986d0539759",
   "metadata": {},
   "outputs": [],
   "source": [
    "break"
   ]
  },
  {
   "cell_type": "code",
   "execution_count": null,
   "id": "fe2c2389-04b2-46d8-bacf-0dc5fb64a355",
   "metadata": {},
   "outputs": [],
   "source": [
    "# Load in file using h5py since it is in h5 format\n",
    "traj = h5py.File(wd+fn+str(1)+ext)"
   ]
  },
  {
   "cell_type": "code",
   "execution_count": null,
   "id": "da86bd23-52b6-48e4-96d6-57e4313cd60e",
   "metadata": {},
   "outputs": [],
   "source": [
    "# We can check the main components of the file. SHould include: Model, Parameters, and Simulations\n",
    "traj.keys()"
   ]
  },
  {
   "cell_type": "code",
   "execution_count": null,
   "id": "23b27037-19f7-47bb-a60a-5a2ea237fdae",
   "metadata": {},
   "outputs": [],
   "source": [
    "# Parameters contiains tables with information about the system\n",
    "traj['Parameters'].keys()"
   ]
  },
  {
   "cell_type": "code",
   "execution_count": null,
   "id": "3ad99f73-ce3e-43e5-b4da-6130fc5da7fa",
   "metadata": {},
   "outputs": [],
   "source": [
    "# Each part of the simulation has a list of attributes that can be referenced\n",
    "traj['Parameters'].attrs.keys()"
   ]
  },
  {
   "cell_type": "code",
   "execution_count": null,
   "id": "bc0467cd-74e3-40bd-bab6-7fda504225db",
   "metadata": {
    "scrolled": true
   },
   "outputs": [],
   "source": [
    "# To get the list of species names in the trajectory, we need to decode them from binary to utf-8\n",
    "# I just create a list containing all the species names\n",
    "\n",
    "# Names that Zane thinks are useful:\n",
    "# Proteins: P_XXXX where XXXX is the NCBI locus number (JCVISYN3A_XXXX)\n",
    "# Ribosomes (inactive): ribosomeP\n",
    "# Ribosomes (active): RB_XXXX (ribosome:mRNA bound state for mRNA from gene XXXX)\n",
    "# RNA polymerase (inactive): RNAP\n",
    "# RNA polymerase (active): RP_XXXX (RNAP:gene transcription state) (Do not currently recommend, this has some weird attributes due to the hybrid simulation)\n",
    "\n",
    "sNbin = traj['Parameters']['SpeciesNames']\n",
    "sN = []\n",
    "for n in sNbin:\n",
    "    sN.append(n[0].decode(\"utf-8\"))\n",
    "sN"
   ]
  },
  {
   "cell_type": "code",
   "execution_count": null,
   "id": "dbb5086c-af43-4fe6-9768-64e4cd7d7174",
   "metadata": {},
   "outputs": [],
   "source": [
    "# We will need to be able to get the indices of particles when searching the lattice in the trajectory\n",
    "# Function to go from specie name to index\n",
    "def getIdx(name):\n",
    "    return int(sN.index(name)+1)"
   ]
  },
  {
   "cell_type": "code",
   "execution_count": null,
   "id": "94ea4378-fa6d-4346-8e0f-6ed03c5d1beb",
   "metadata": {},
   "outputs": [],
   "source": [
    "getIdx('P_0779')"
   ]
  },
  {
   "cell_type": "code",
   "execution_count": null,
   "id": "d074554f-eccb-4731-bcc4-fa9be0b32a18",
   "metadata": {},
   "outputs": [],
   "source": [
    "# Check how many simulations are in the trajectory. Should be a single replicate\n",
    "traj['Simulations'].keys()"
   ]
  },
  {
   "cell_type": "code",
   "execution_count": null,
   "id": "c611a6f1-906e-40d1-9ad3-9431f1590ac1",
   "metadata": {},
   "outputs": [],
   "source": [
    "# The trajectory contains information in multiple tables\n",
    "traj['Simulations']['0000001'].keys()"
   ]
  },
  {
   "cell_type": "code",
   "execution_count": null,
   "id": "09bc157c-b8aa-4d3f-9359-528ebcfbd069",
   "metadata": {},
   "outputs": [],
   "source": [
    "# To get the positions of particles, we need 'Lattice'\n",
    "# The write times are intervals of 1 second, so the write step indices are also in units of seconds\n",
    "float(traj['Simulations']['0000001']['LatticeTimes'][-1])==6000"
   ]
  },
  {
   "cell_type": "code",
   "execution_count": null,
   "id": "a4d90e1e-e67a-425d-b7b2-2de167ff75f0",
   "metadata": {},
   "outputs": [],
   "source": [
    "# We will get the particle lattice at one point in time as a numpy array (division starts somewhere around 1 hr (3600) )\n",
    "time = 3600 # seconds\n",
    "pL = np.array(traj['Simulations']['0000001']['Lattice']['000000{}'.format(time)])"
   ]
  },
  {
   "cell_type": "code",
   "execution_count": null,
   "id": "01ec4dce-4d3b-4df5-bee0-25f3e81594ea",
   "metadata": {},
   "outputs": [],
   "source": [
    "# Dimensions of the lattice are x, y, z, n where n is the number of particles allowed per lattice cube\n",
    "pL.shape"
   ]
  },
  {
   "cell_type": "code",
   "execution_count": null,
   "id": "4147271c-f3ec-4d1e-a2e4-9642e8f91b80",
   "metadata": {},
   "outputs": [],
   "source": [
    "# We can get an array of coordinates for each particle of a particular type\n",
    "# Only need first 3 parts of each coordinate (x,y,z)\n",
    "pID = 'P_0779'\n",
    "np.argwhere(pL==getIdx(pID))"
   ]
  },
  {
   "cell_type": "code",
   "execution_count": null,
   "id": "e1b13354-b8b8-4865-b26f-4fa8b9ba8654",
   "metadata": {},
   "outputs": [],
   "source": [
    "# We can get ribosome coordinates\n",
    "# This only gets inactive ribosomes (not actively translating)\n",
    "ribosomes = np.argwhere(pL==getIdx('ribosomeP'))\n",
    "ribosomes.shape"
   ]
  },
  {
   "cell_type": "code",
   "execution_count": null,
   "id": "2bfca322-cccb-4a30-80b0-2be6998acf9e",
   "metadata": {},
   "outputs": [],
   "source": [
    "# Now we will check all ribosome bound states and add them to the total list of ribosome coordinates\n",
    "# This might take a minute.\n",
    "for pID in sN:\n",
    "    if pID.startswith('RB_'):\n",
    "        coords = np.argwhere(pL==getIdx(pID))\n",
    "        if coords.shape[0]>0:\n",
    "            ribosomes = np.concatenate((ribosomes, coords), axis=0)\n",
    "ribosomes.shape"
   ]
  },
  {
   "cell_type": "code",
   "execution_count": null,
   "id": "0f1046f9-ea8b-4a75-9a4d-8b31dc13ec34",
   "metadata": {},
   "outputs": [],
   "source": [
    "traj = h5py.File('/home/zane/Models/human_rdme/Stem_Cell_Allen_ToyModel_1.lm')"
   ]
  },
  {
   "cell_type": "code",
   "execution_count": null,
   "id": "ad2a17a2-94ce-4531-a38b-e851c585d818",
   "metadata": {},
   "outputs": [],
   "source": [
    "traj.keys()"
   ]
  },
  {
   "cell_type": "code",
   "execution_count": null,
   "id": "741ffd1f-5392-44ec-9281-965f4e24df25",
   "metadata": {},
   "outputs": [],
   "source": [
    "traj['Simulations']['0000001']['Lattice']['0000000000']"
   ]
  },
  {
   "cell_type": "code",
   "execution_count": null,
   "id": "45a07aca-a2d3-421c-bea5-5641de8757bd",
   "metadata": {},
   "outputs": [],
   "source": [
    "traj['Parameters'].keys()"
   ]
  },
  {
   "cell_type": "code",
   "execution_count": null,
   "id": "abe33754-343a-4c0b-b65d-c4c75e5eef3c",
   "metadata": {},
   "outputs": [],
   "source": [
    "traj['Model']['Diffusion']['LatticeSites']"
   ]
  },
  {
   "cell_type": "code",
   "execution_count": null,
   "id": "9b45561d-efef-403d-91e4-b8b64792c19e",
   "metadata": {},
   "outputs": [],
   "source": [
    "newDict = {}"
   ]
  },
  {
   "cell_type": "code",
   "execution_count": null,
   "id": "ce32c3a0-407b-4dc9-93f1-4be98160dc44",
   "metadata": {},
   "outputs": [],
   "source": [
    "newDict['test'] = {'m':'L','d':'R'}"
   ]
  },
  {
   "cell_type": "code",
   "execution_count": null,
   "id": "ee942513-1fdc-4169-a753-6352aa4f0aff",
   "metadata": {},
   "outputs": [],
   "source": [
    "newDict['test']['m']"
   ]
  },
  {
   "cell_type": "code",
   "execution_count": null,
   "id": "6c3c48e9-4bc1-4391-952f-f681dcdb7704",
   "metadata": {},
   "outputs": [],
   "source": [
    "1300/60*4"
   ]
  },
  {
   "cell_type": "code",
   "execution_count": null,
   "id": "adfd4fb3-31d4-453e-a659-f372fd9bcfe0",
   "metadata": {},
   "outputs": [],
   "source": []
  }
 ],
 "metadata": {
  "kernelspec": {
   "display_name": "Python 3 (ipykernel)",
   "language": "python",
   "name": "python3"
  },
  "language_info": {
   "codemirror_mode": {
    "name": "ipython",
    "version": 3
   },
   "file_extension": ".py",
   "mimetype": "text/x-python",
   "name": "python",
   "nbconvert_exporter": "python",
   "pygments_lexer": "ipython3",
   "version": "3.7.3"
  }
 },
 "nbformat": 4,
 "nbformat_minor": 5
}
