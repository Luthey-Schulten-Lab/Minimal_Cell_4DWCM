{
 "cells": [
  {
   "cell_type": "code",
   "execution_count": null,
   "id": "b35ca433-7aca-43a8-b1a9-350de8448fe6",
   "metadata": {},
   "outputs": [],
   "source": [
    "dataDir = '/Data1/zane/Models/mincell/'\n",
    "mergedDir = f'{dataDir}merged/'"
   ]
  },
  {
   "cell_type": "code",
   "execution_count": null,
   "id": "adf9a5d9-df2f-4bb6-b94f-ea606fdc0ac1",
   "metadata": {},
   "outputs": [],
   "source": [
    "import os"
   ]
  },
  {
   "cell_type": "code",
   "execution_count": null,
   "id": "e9225a3a-c3b4-4c20-88ac-e611939ccfcf",
   "metadata": {},
   "outputs": [],
   "source": [
    "reps = {}\n",
    "reps['Mar10'] = [1,2,3,4,5,7,8,9,10]\n",
    "reps['Mar21'] = [1,2,3,4,5,6,7,8,9,10,11]"
   ]
  },
  {
   "cell_type": "code",
   "execution_count": null,
   "id": "f6a1f8f7-b8e1-4e58-bc1f-7386382e7a80",
   "metadata": {},
   "outputs": [],
   "source": [
    "repCounter = 0\n",
    "for repDate, repList in reps.items():\n",
    "    for rep in repList:\n",
    "        repCounter+=1\n",
    "        lmFile = f'{dataDir}{repDate}/{repDate}_{rep}/MinCell_merged.lm'\n",
    "        mergedFname = f'{mergedDir}MinCell_{repCounter}.lm'\n",
    "        os.system(f'cp {lmFile} {mergedFname}')\n",
    "        print(mergedFname)"
   ]
  },
  {
   "cell_type": "code",
   "execution_count": null,
   "id": "2d0e8bcc-45d5-4572-8e4b-7747029cee85",
   "metadata": {},
   "outputs": [],
   "source": []
  },
  {
   "cell_type": "code",
   "execution_count": null,
   "id": "57e5aff2-5734-4fb1-b7da-9c3a0ce9df2d",
   "metadata": {},
   "outputs": [],
   "source": []
  },
  {
   "cell_type": "code",
   "execution_count": null,
   "id": "627cc85c-d76f-4d7f-b34e-f83bda2eb448",
   "metadata": {},
   "outputs": [],
   "source": []
  },
  {
   "cell_type": "code",
   "execution_count": null,
   "id": "ff7a44dc-97e3-490c-ba8a-91b29440c6e5",
   "metadata": {},
   "outputs": [],
   "source": []
  }
 ],
 "metadata": {
  "kernelspec": {
   "display_name": "Python 3 (ipykernel)",
   "language": "python",
   "name": "python3"
  },
  "language_info": {
   "codemirror_mode": {
    "name": "ipython",
    "version": 3
   },
   "file_extension": ".py",
   "mimetype": "text/x-python",
   "name": "python",
   "nbconvert_exporter": "python",
   "pygments_lexer": "ipython3",
   "version": "3.12.8"
  }
 },
 "nbformat": 4,
 "nbformat_minor": 5
}
