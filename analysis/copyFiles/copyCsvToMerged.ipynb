{
 "cells": [
  {
   "cell_type": "code",
   "execution_count": null,
   "id": "1a1629f4",
   "metadata": {},
   "outputs": [],
   "source": [
    "dataDir = '/Data1/zane/Models/mincell/'\n",
    "mergedDir = f'{dataDir}merged/'"
   ]
  },
  {
   "cell_type": "code",
   "execution_count": null,
   "id": "7531cac6",
   "metadata": {},
   "outputs": [],
   "source": [
    "import os"
   ]
  },
  {
   "cell_type": "code",
   "execution_count": null,
   "id": "fa7f23b0",
   "metadata": {},
   "outputs": [],
   "source": [
    "reps = {}\n",
    "reps['Mar10'] = [1,2,3,4,5,7,8,9,10]\n",
    "reps['Mar21'] = [1,2,3,4,5,6,7,8,9,10,11]"
   ]
  },
  {
   "cell_type": "code",
   "execution_count": null,
   "id": "7cdc79b8",
   "metadata": {},
   "outputs": [],
   "source": [
    "repCounter = 0\n",
    "for repDate, repList in reps.items():\n",
    "    for rep in repList:\n",
    "        repCounter+=1\n",
    "        csvFile = f'{dataDir}{repDate}/counts_and_fluxes.{rep}.csv'\n",
    "        mergedFname = f'{mergedDir}counts_and_fluxes.{repCounter}.csv'\n",
    "        os.system(f'cp {csvFile} {mergedFname}')\n",
    "        print(mergedFname)"
   ]
  },
  {
   "cell_type": "code",
   "execution_count": null,
   "id": "c3d5215b",
   "metadata": {},
   "outputs": [],
   "source": []
  },
  {
   "cell_type": "code",
   "execution_count": null,
   "id": "e5c04333",
   "metadata": {},
   "outputs": [],
   "source": []
  },
  {
   "cell_type": "code",
   "execution_count": null,
   "id": "7cc4dda4",
   "metadata": {},
   "outputs": [],
   "source": []
  }
 ],
 "metadata": {
  "kernelspec": {
   "display_name": "Python 3 (ipykernel)",
   "language": "python",
   "name": "python3"
  },
  "language_info": {
   "codemirror_mode": {
    "name": "ipython",
    "version": 3
   },
   "file_extension": ".py",
   "mimetype": "text/x-python",
   "name": "python",
   "nbconvert_exporter": "python",
   "pygments_lexer": "ipython3",
   "version": "3.7.3"
  }
 },
 "nbformat": 4,
 "nbformat_minor": 5
}
